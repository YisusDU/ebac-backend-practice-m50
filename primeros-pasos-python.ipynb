{
 "cells": [
  {
   "cell_type": "markdown",
   "id": "d75dbd8d",
   "metadata": {},
   "source": [
    "# Primeros pasos en backen con python"
   ]
  },
  {
   "cell_type": "code",
   "execution_count": 1,
   "id": "f2317cbf",
   "metadata": {},
   "outputs": [
    {
     "name": "stdout",
     "output_type": "stream",
     "text": [
      "Hello world, I'm ready to start to learn backend with python\n"
     ]
    }
   ],
   "source": [
    "print(\"Hello world, I'm ready to start to learn backend with python\")"
   ]
  },
  {
   "cell_type": "code",
   "execution_count": 2,
   "id": "38364347",
   "metadata": {},
   "outputs": [
    {
     "name": "stdout",
     "output_type": "stream",
     "text": [
      "Hola, mundo, estoy listo para empezar a aprender backend con python\n"
     ]
    }
   ],
   "source": [
    "print(\"Hola, mundo, estoy listo para empezar a aprender backend con python\")"
   ]
  },
  {
   "cell_type": "code",
   "execution_count": null,
   "id": "5d2be85c",
   "metadata": {},
   "outputs": [],
   "source": []
  }
 ],
 "metadata": {
  "kernelspec": {
   "display_name": "base",
   "language": "python",
   "name": "python3"
  },
  "language_info": {
   "codemirror_mode": {
    "name": "ipython",
    "version": 3
   },
   "file_extension": ".py",
   "mimetype": "text/x-python",
   "name": "python",
   "nbconvert_exporter": "python",
   "pygments_lexer": "ipython3",
   "version": "3.13.5"
  }
 },
 "nbformat": 4,
 "nbformat_minor": 5
}
